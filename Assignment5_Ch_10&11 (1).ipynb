{
  "cells": [
    {
      "cell_type": "markdown",
      "id": "9903d230",
      "metadata": {
        "id": "9903d230"
      },
      "source": [
        "# Assignment5: CRM Cleanup @ **DalaShop**\n",
        "*Files (Ch.10), Exceptions (Ch.10), Unit Tests (Ch.11), and Regular Expressions*  \n",
        ".....\n",
        "\n",
        "**Total: 3 points**  (Two questions, 1.5 pts each)  \n",
        "\n",
        "> This assignment is scenario-based and aligned with Python Crash Course Ch.10 (files & exceptions), Ch.11 (unit testing with `unittest`), and Regular Expressions."
      ]
    },
    {
      "cell_type": "markdown",
      "id": "d6487401",
      "metadata": {
        "id": "d6487401"
      },
      "source": [
        "## Scenario\n",
        "You are a data intern at an online retailer called **DalaShop**.  \n",
        "Sales exported a **raw contacts** file from the CRM. It contains customer names, emails, and phone numbers, but the formatting is messy and some emails are invalid.  \n",
        "Your tasks:\n",
        "\n",
        "1. **Clean** the contacts (Files + Exceptions + Regex).  \n",
        "2. **Write unit tests** to make sure your helper functions work correctly and keep working in the future."
      ]
    },
    {
      "cell_type": "markdown",
      "id": "0bd1712f",
      "metadata": {
        "id": "0bd1712f"
      },
      "source": [
        "## Data file (given by the company): `contacts_raw.txt`\n",
        "Use this exact sample data (you may extend it for your own testing, but do **not** change it when submitting).  \n",
        "Run the next cell once to create the file beside your notebook."
      ]
    },
    {
      "cell_type": "code",
      "execution_count": 5,
      "id": "c395a1a8",
      "metadata": {
        "id": "c395a1a8",
        "colab": {
          "base_uri": "https://localhost:8080/"
        },
        "outputId": "fd027660-8e9a-4f04-833c-e104c92e82cd"
      },
      "outputs": [
        {
          "output_type": "stream",
          "name": "stdout",
          "text": [
            "Wrote contacts_raw.txt with sample DalaShop data.\n"
          ]
        }
      ],
      "source": [
        "# Create the provided company dataset file\n",
        "with open(\"contacts_raw.txt\", \"w\", encoding=\"utf-8\") as f:\n",
        "    f.write('Alice Johnson <alice@example.com> , +1 (469) 555-1234\\nBob Roberts <bob[at]example.com> , 972-555-777\\nSara M. , sara@mail.co , 214 555 8888\\n\"Mehdi A.\" <mehdi.ay@example.org> , (469)555-9999\\nDelaram <delaram@example.io>, +1-972-777-2121\\nNima <NIMA@example.io> , 972.777.2121\\nduplicate <Alice@Example.com> , 469 555 1234')\n",
        "print(\"Wrote contacts_raw.txt with sample DalaShop data.\")"
      ]
    },
    {
      "cell_type": "markdown",
      "id": "1b535f73",
      "metadata": {
        "id": "1b535f73"
      },
      "source": [
        "## Q1 (1.5 pts) — CRM cleanup with Files, Exceptions, and Regex\n",
        "Implement `q1_crm_cleanup.py` to:\n",
        "\n",
        "1. **Read** `contacts_raw.txt` using `pathlib` and `with`. If the file is missing, **handle** it gracefully with `try/except FileNotFoundError` (print a friendly message; do not crash).\n",
        "2. **Validate emails** with a simple regex (`r\"[A-Za-z0-9._%+-]+@[A-Za-z0-9.-]+\\.[A-Za-z]{2,}\"`).  \n",
        "   - Trim whitespace with `strip()` before checking.  \n",
        "   - Use **full** matching (not partial).\n",
        "3. **Normalize phone numbers:** remove all non-digits (e.g., with `re.sub(r\"\\D\", \"\", raw)`).  \n",
        "   - If the result has **≥ 10 digits**, keep the **last 10 digits**.  \n",
        "   - Otherwise, return an **empty string** (`\"\"`).\n",
        "4. **Filter rows:** keep **only** rows with a valid email.\n",
        "5. **Deduplicate:** remove duplicates by **email** using **case-insensitive** comparison (e.g., `email.casefold()`). **Keep the first occurrence** and drop later duplicates.\n",
        "6. **Output CSV:** write to `contacts_clean.csv` with **columns exactly** `name,email,phone` (UTF-8).  \n",
        "7. **Preserve input order:** the order of rows in `contacts_clean.csv` must match the **first appearance** order from the input file. **Do not sort** the rows.\n",
        "\n",
        "**Grading rubric (1.5 pts):**\n",
        "- (0.4) File read/write via `pathlib` + graceful `FileNotFoundError` handling  \n",
        "- (0.5) Correct email regex validation + filtering  \n",
        "- (0.4) Phone normalization + case-insensitive de-dup (keep first)  \n",
        "- (0.2) Clean code, clear names, minimal docstrings/comments"
      ]
    },
    {
      "cell_type": "code",
      "source": [
        "# Write your answer here\n",
        "from pathlib import Path\n",
        "import re\n",
        "import csv\n",
        "\n",
        "INPUT_FILE = Path(\"contacts_raw.txt\")\n",
        "OUTPUT_FILE = Path(\"contacts_clean.csv\")\n",
        "\n",
        "EMAIL_REGEX = r\"[A-Za-z0-9._%+-]+@[A-Za-z0-9.-]+\\.[A-Za-z]{2,}\"\n",
        "\n",
        "def normalize_phone(phone_raw):\n",
        "    \"\"\"Remove all non-digits, keep last 10 digits if >=10 digits.\"\"\"\n",
        "    digits = re.sub(r\"\\D\", \"\", phone_raw)\n",
        "    return digits[-10:] if len(digits) >= 10 else \"\"\n",
        "\n",
        "def is_valid_email(email_raw):\n",
        "    \"\"\"Check if email matches regex after stripping.\"\"\"\n",
        "    email = email_raw.strip()\n",
        "    return re.fullmatch(EMAIL_REGEX, email) is not None\n",
        "\n",
        "def parse_contact_line(line):\n",
        "    \"\"\"Extract name, email, phone from a line.\"\"\"\n",
        "    parts = line.strip().split(\",\")\n",
        "    name, email, phone = \"\", \"\", \"\"\n",
        "    if len(parts) == 2:  # name + email/phone combined\n",
        "        left, right = parts\n",
        "        match = re.search(r\"<(.+?)>\", left)\n",
        "        if match:\n",
        "            name = left.split(\"<\")[0].strip('\" ').strip()\n",
        "            email = match.group(1).strip()\n",
        "        else:\n",
        "            name = left.strip('\" ').strip()\n",
        "            email = right.strip()\n",
        "        phone = right if not match else right\n",
        "    elif len(parts) >= 3:\n",
        "        name = parts[0].strip('\" ').strip()\n",
        "        email = parts[1].strip()\n",
        "        phone = parts[2].strip()\n",
        "    else:\n",
        "        # fallback\n",
        "        name = parts[0].strip('\" ').strip()\n",
        "    phone = normalize_phone(phone)\n",
        "    return name, email, phone\n",
        "\n",
        "def main():\n",
        "    try:\n",
        "        lines = INPUT_FILE.read_text(encoding=\"utf-8\").splitlines()\n",
        "    except FileNotFoundError:\n",
        "        print(f\"Error: {INPUT_FILE} not found. Exiting.\")\n",
        "        return\n",
        "\n",
        "    cleaned_contacts = []\n",
        "    seen_emails = set()\n",
        "\n",
        "    for line in lines:\n",
        "        name, email, phone = parse_contact_line(line)\n",
        "        if not is_valid_email(email):\n",
        "            continue\n",
        "        email_lower = email.casefold()\n",
        "        if email_lower in seen_emails:\n",
        "            continue\n",
        "        seen_emails.add(email_lower)\n",
        "        cleaned_contacts.append((name, email, phone))\n",
        "\n",
        "    # Write CSV\n",
        "    with OUTPUT_FILE.open(\"w\", newline=\"\", encoding=\"utf-8\") as f:\n",
        "        writer = csv.writer(f)\n",
        "        writer.writerow([\"name\", \"email\", \"phone\"])\n",
        "        writer.writerows(cleaned_contacts)\n",
        "\n",
        "    print(f\"Cleaned contacts written to {OUTPUT_FILE}\")\n",
        "\n",
        "if __name__ == \"__main__\":\n",
        "    main()\n"
      ],
      "metadata": {
        "id": "gO9xaHmKNlax",
        "colab": {
          "base_uri": "https://localhost:8080/"
        },
        "outputId": "d4869832-4bdd-4346-89ed-f04feca722a6"
      },
      "id": "gO9xaHmKNlax",
      "execution_count": 6,
      "outputs": [
        {
          "output_type": "stream",
          "name": "stdout",
          "text": [
            "Cleaned contacts written to contacts_clean.csv\n"
          ]
        }
      ]
    },
    {
      "cell_type": "markdown",
      "id": "258c5b04",
      "metadata": {
        "id": "258c5b04"
      },
      "source": [
        "## Q2 (1.5 pts) — Unit testing with `unittest`\n",
        "Create tests in `test_crm_cleanup.py` that cover at least:\n",
        "\n",
        "1. **Email validation**: valid/invalid variations.  \n",
        "2. **Phone normalization**: parentheses, dashes, spaces, country code; too-short cases.  \n",
        "3. **Parsing**: from a small multi-line string (not from a file), assert the exact structured rows (name/email/phone).  \n",
        "4. **De-duplication**: demonstrate that a case-variant duplicate email is dropped (first occurrence kept).\n",
        "\n",
        "\n"
      ]
    },
    {
      "cell_type": "code",
      "source": [
        "# Write your answer here\n",
        "import unittest\n",
        "import re\n",
        "\n",
        "# Copy the helper functions here from Q1\n",
        "\n",
        "EMAIL_REGEX = r\"[A-Za-z0-9._%+-]+@[A-Za-z0-9.-]+\\.[A-Za-z]{2,}\"\n",
        "\n",
        "def normalize_phone(phone_raw):\n",
        "    digits = re.sub(r\"\\D\", \"\", phone_raw)\n",
        "    return digits[-10:] if len(digits) >= 10 else \"\"\n",
        "\n",
        "def is_valid_email(email_raw):\n",
        "    email = email_raw.strip()\n",
        "    return re.fullmatch(EMAIL_REGEX, email) is not None\n",
        "\n",
        "def parse_contact_line(line):\n",
        "    parts = line.strip().split(\",\")\n",
        "    name, email, phone = \"\", \"\", \"\"\n",
        "    if len(parts) == 2:\n",
        "        left, right = parts\n",
        "        match = re.search(r\"<(.+?)>\", left)\n",
        "        if match:\n",
        "            name = left.split(\"<\")[0].strip('\" ').strip()\n",
        "            email = match.group(1).strip()\n",
        "        else:\n",
        "            name = left.strip('\" ').strip()\n",
        "            email = right.strip()\n",
        "        phone = right if not match else right\n",
        "    elif len(parts) >= 3:\n",
        "        name = parts[0].strip('\" ').strip()\n",
        "        email = parts[1].strip()\n",
        "        phone = parts[2].strip()\n",
        "    phone = normalize_phone(phone)\n",
        "    return name, email, phone\n",
        "\n",
        "# Unit tests\n",
        "class TestCRMHelpers(unittest.TestCase):\n",
        "    def test_email_validation(self):\n",
        "        self.assertTrue(is_valid_email(\"alice@example.com\"))\n",
        "        self.assertTrue(is_valid_email(\"Bob.Roberts+1@mail.co\"))\n",
        "        self.assertFalse(is_valid_email(\"bob[at]example.com\"))\n",
        "        self.assertFalse(is_valid_email(\"invalid-email@\"))\n",
        "        self.assertFalse(is_valid_email(\"  \"))\n",
        "\n",
        "    def test_phone_normalization(self):\n",
        "        self.assertEqual(normalize_phone(\"(469) 555-1234\"), \"4695551234\")\n",
        "        self.assertEqual(normalize_phone(\"+1-972-777-2121\"), \"9727772121\")\n",
        "        self.assertEqual(normalize_phone(\"972.777.2121\"), \"9727772121\")\n",
        "        self.assertEqual(normalize_phone(\"214 555 8888\"), \"2145558888\")\n",
        "        self.assertEqual(normalize_phone(\"1234\"), \"\")\n",
        "\n",
        "    def test_parse_contact_line(self):\n",
        "        line = 'Alice Johnson <alice@example.com> , +1 (469) 555-1234'\n",
        "        name, email, phone = parse_contact_line(line)\n",
        "        self.assertEqual(name, \"Alice Johnson\")\n",
        "        self.assertEqual(email, \"alice@example.com\")\n",
        "        self.assertEqual(phone, \"4695551234\")\n",
        "\n",
        "        line2 = 'Sara M. , sara@mail.co , 214 555 8888'\n",
        "        name2, email2, phone2 = parse_contact_line(line2)\n",
        "        self.assertEqual(name2, \"Sara M.\")\n",
        "        self.assertEqual(email2, \"sara@mail.co\")\n",
        "        self.assertEqual(phone2, \"2145558888\")\n",
        "\n",
        "    def test_deduplication(self):\n",
        "        lines = [\n",
        "            'Alice Johnson <alice@example.com> , +1 (469) 555-1234',\n",
        "            'duplicate <Alice@Example.com> , 469 555 1234'\n",
        "        ]\n",
        "        seen_emails = set()\n",
        "        cleaned = []\n",
        "        for line in lines:\n",
        "            name, email, phone = parse_contact_line(line)\n",
        "            if not is_valid_email(email):\n",
        "                continue\n",
        "            email_lower = email.casefold()\n",
        "            if email_lower in seen_emails:\n",
        "                continue\n",
        "            seen_emails.add(email_lower)\n",
        "            cleaned.append((name, email, phone))\n",
        "        self.assertEqual(len(cleaned), 1)\n",
        "        self.assertEqual(cleaned[0][0], \"Alice Johnson\")\n",
        "\n",
        "if __name__ == \"__main__\":\n",
        "    unittest.main(argv=[''], exit=False)\n"
      ],
      "metadata": {
        "id": "_M18cJw2NqZm",
        "colab": {
          "base_uri": "https://localhost:8080/"
        },
        "outputId": "3a84c1dc-0f71-403b-fe76-79b8e6b39e0b"
      },
      "id": "_M18cJw2NqZm",
      "execution_count": 8,
      "outputs": [
        {
          "output_type": "stream",
          "name": "stderr",
          "text": [
            "....\n",
            "----------------------------------------------------------------------\n",
            "Ran 4 tests in 0.004s\n",
            "\n",
            "OK\n"
          ]
        }
      ]
    },
    {
      "cell_type": "markdown",
      "id": "f38af38b",
      "metadata": {
        "id": "f38af38b"
      },
      "source": [
        "## Grading rubric (total 3 pts)\n",
        "- **Q1 (1.5 pts)**  \n",
        "  - (0.4) File I/O with `pathlib` + graceful `FileNotFoundError` handling  \n",
        "  - (0.5) Email validation (regex + strip + full match) and filtering  \n",
        "  - (0.4) Phone normalization and **case-insensitive** de-duplication (keep first)  \n",
        "  - (0.2) Code clarity (names, minimal docstrings/comments)\n",
        "- **Q2 (1.5 pts)**  \n",
        "  - (0.6) Meaningful coverage for email/phone functions (valid & invalid)  \n",
        "  - (0.6) Parsing & de-dup tests that assert exact expected rows  \n",
        "  - (0.3) Standard `unittest` structure and readable test names\n"
      ]
    }
  ],
  "metadata": {
    "colab": {
      "provenance": []
    },
    "language_info": {
      "name": "python"
    },
    "kernelspec": {
      "name": "python3",
      "display_name": "Python 3"
    }
  },
  "nbformat": 4,
  "nbformat_minor": 5
}