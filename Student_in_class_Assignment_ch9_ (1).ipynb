{
  "nbformat": 4,
  "nbformat_minor": 0,
  "metadata": {
    "colab": {
      "provenance": []
    },
    "kernelspec": {
      "name": "python3",
      "display_name": "Python 3"
    },
    "language_info": {
      "name": "python"
    }
  },
  "cells": [
    {
      "cell_type": "markdown",
      "source": [
        "create a class called InventoryItem that represents a single product in stock — for example, an apple in a grocery store. The class keeps track of the product’s name, price, quantity, and minimum stock level (the level where we might need to reorder).\n",
        "\n",
        "......\n",
        "\n",
        "When you store the attributes, convert types as follows:\n",
        "\n",
        "• name → str(name)\n",
        "\n",
        "• price → float(price)\n",
        "\n",
        "• quantity → int(quantity) (default 0)\n",
        "\n",
        "• min_stock → int(min_stock) (default 0)\n",
        "\n",
        "Validation:\n",
        "\n",
        "• If any of price, quantity, or min_stock is negative, raise ValueError with a clear message.\n",
        "\n",
        "......\n",
        "\n",
        "Methods to implement\n",
        "\n",
        "restock(self, qty)\n",
        "• If qty is negative, raise ValueError.\n",
        "\n",
        "• Otherwise, increase quantity by qty.\n",
        "\n",
        "sell(self, qty)\n",
        "• If qty is not positive (≤ 0), raise ValueError.\n",
        "\n",
        "• If there is enough stock (self.quantity >= qty), decrease quantity by qty and return True.\n",
        "\n",
        "• Otherwise, return False (do not change quantity).\n",
        "\n",
        "value(self)\n",
        "• Return the total value of this item in stock:\n",
        "\n",
        "price * quantity (a float).\n",
        "\n",
        "repr(self)\n",
        "Provide a readable text description of the object when printed.\n",
        "\n",
        "return (f\"InventoryItem(name={self.name}, price={self.price}, \" f\"qty={self.quantity}, min_stock={self.min_stock})\")\n",
        "\n",
        "........\n",
        "\n",
        "• Return a developer-friendly string that shows all fields, for example: InventoryItem(name='Apple', price=0.5, quantity=3, min_stock=1)"
      ],
      "metadata": {
        "id": "vW98iSj6mCjt"
      }
    },
    {
      "cell_type": "code",
      "execution_count": 2,
      "metadata": {
        "id": "Hayuin-1lkgP"
      },
      "outputs": [],
      "source": [
        "# Write your answer here\n",
        "class InventoryItem:\n",
        "    def __init__(self, name, price, quantity=0, min_stock=0):\n",
        "        # Convert types\n",
        "        self.name = str(name)\n",
        "        self.price = float(price)\n",
        "        self.quantity = int(quantity)\n",
        "        self.min_stock = int(min_stock)\n",
        "\n",
        "        # Validation for negative values\n",
        "        if self.price < 0:\n",
        "            raise ValueError(\"Price cannot be negative.\")\n",
        "        if self.quantity < 0:\n",
        "            raise ValueError(\"Quantity cannot be negative.\")\n",
        "        if self.min_stock < 0:\n",
        "            raise ValueError(\"Minimum stock level cannot be negative.\")\n",
        "\n",
        "    def restock(self, qty):\n",
        "        \"\"\"Increase quantity by qty. Raise error if qty is negative.\"\"\"\n",
        "        if qty < 0:\n",
        "            raise ValueError(\"Restock quantity cannot be negative.\")\n",
        "        self.quantity += qty\n",
        "\n",
        "    def sell(self, qty):\n",
        "        \"\"\"Sell qty items if enough in stock. Return True if successful, False otherwise.\"\"\"\n",
        "        if qty <= 0:\n",
        "            raise ValueError(\"Quantity to sell must be positive.\")\n",
        "        if self.quantity >= qty:\n",
        "            self.quantity -= qty\n",
        "            return True\n",
        "        return False\n",
        "\n",
        "    def value(self):\n",
        "        \"\"\"Return total value of stock (price * quantity).\"\"\"\n",
        "        return self.price * self.quantity\n",
        "\n",
        "    def __repr__(self):\n",
        "        \"\"\"Return developer-friendly string representation.\"\"\"\n",
        "        return (f\"InventoryItem(name='{self.name}', price={self.price}, \"\n",
        "                f\"quantity={self.quantity}, min_stock={self.min_stock})\")\n"
      ]
    },
    {
      "cell_type": "code",
      "source": [
        "apple = InventoryItem(\"Apple\", 0.5, 10, 2)\n",
        "print(apple)  # InventoryItem(name='Apple', price=0.5, quantity=10, min_stock=2)\n",
        "\n",
        "apple.sell(3)\n",
        "print(apple.value())  # 3.5 (7 apples * $0.5 each)\n",
        "\n",
        "apple.restock(5)\n",
        "print(apple)  # InventoryItem(name='Apple', price=0.5, quantity=12, min_stock=2)"
      ],
      "metadata": {
        "colab": {
          "base_uri": "https://localhost:8080/"
        },
        "id": "-cTIKlhymtOr",
        "outputId": "01d7890f-822c-495a-aee5-120afd8e4487"
      },
      "execution_count": 3,
      "outputs": [
        {
          "output_type": "stream",
          "name": "stdout",
          "text": [
            "InventoryItem(name='Apple', price=0.5, quantity=10, min_stock=2)\n",
            "3.5\n",
            "InventoryItem(name='Apple', price=0.5, quantity=12, min_stock=2)\n"
          ]
        }
      ]
    }
  ]
}