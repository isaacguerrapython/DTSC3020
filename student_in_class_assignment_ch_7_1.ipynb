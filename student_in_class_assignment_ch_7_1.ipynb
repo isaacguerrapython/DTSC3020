{
  "nbformat": 4,
  "nbformat_minor": 0,
  "metadata": {
    "colab": {
      "provenance": [],
      "include_colab_link": true
    },
    "kernelspec": {
      "name": "python3",
      "display_name": "Python 3"
    },
    "language_info": {
      "name": "python"
    }
  },
  "cells": [
    {
      "cell_type": "markdown",
      "metadata": {
        "id": "view-in-github",
        "colab_type": "text"
      },
      "source": [
        "<a href=\"https://colab.research.google.com/github/isaacguerrapython/DTSC3020/blob/main/student_in_class_assignment_ch_7_1.ipynb\" target=\"_parent\"><img src=\"https://colab.research.google.com/assets/colab-badge.svg\" alt=\"Open In Colab\"/></a>"
      ]
    },
    {
      "cell_type": "markdown",
      "source": [
        "#Write a Python program that simulates a self-checkout system.**\n",
        "Use this price list: prices: apple= 1 ,  bread= 2.5 ,  milk=5 ,  egg= 6\n",
        "\n",
        "Program requirements:\n",
        "\n",
        "The program should repeatedly ask the user to enter an item name or enter \"pay\".\n",
        "\n",
        "\n",
        "• Valid inputs are the names of the **items above ** or the word \"pay\".\n",
        "\n",
        "\n",
        "If the entered item exists in the price list:\n",
        "\n",
        "• Add its price to the running total.\n",
        "\n",
        "\n",
        "• Print the message: \"Added , running total: $\".\n",
        "\n",
        "\n",
        "If the entered item does not exist in the price list:\n",
        "\n",
        "• Print \"Item not found\".\n",
        "\n",
        "If the user types \"pay\":\n",
        "\n",
        "• Stop asking for input.\n",
        "\n",
        "Show the following three values:\n",
        "\n",
        "\n",
        "**Subtotal: the sum of all valid items entered.**\n",
        "\n",
        "**Tax: 8% of the subtotal. (0.08 * total)**\n",
        "\n",
        "**Final total: subtotal + tax.**\n",
        "\n",
        "\n",
        "Run your program with this purchase list. For example, for one person whose purchase is:apple, pizza, bread, pay *italicised text*"
      ],
      "metadata": {
        "id": "t1xs1X02Owtz"
      }
    },
    {
      "cell_type": "code",
      "execution_count": null,
      "metadata": {
        "id": "nTH6mvq1OqHP",
        "colab": {
          "base_uri": "https://localhost:8080/"
        },
        "outputId": "2b97d786-ad5c-44de-9384-10b5ce20540c"
      },
      "outputs": [
        {
          "output_type": "stream",
          "name": "stdout",
          "text": [
            "Enter an item name or enter 'pay': apple\n",
            "Added apple to the running total: $1\n",
            "Enter an item name or enter 'pay': apple\n",
            "Added apple to the running total: $2\n",
            "Enter an item name or enter 'pay': bread\n",
            "Added bread to the running total: $4.5\n",
            "Enter an item name or enter 'pay': pay\n",
            "\n",
            "--- Receipt ---\n",
            "Subtotal: $4.50\n",
            "Tax (8%): $0.36\n",
            "Final total: $4.86\n"
          ]
        }
      ],
      "source": [
        "# write your code here\n",
        "\n",
        "# the list of items given\n",
        "prices = {\"apple\": 1, \"bread\": 2.5, \"milk\": 5, \"egg\": 6}\n",
        "\n",
        "subtotal = 0\n",
        "while True:\n",
        "    item = input(\"Enter an item name or enter 'pay': \")\n",
        "\n",
        "    if item == \"pay\":\n",
        "        break\n",
        "\n",
        "    if item in prices:\n",
        "        subtotal += prices[item]\n",
        "        print(f\"Added {item} to the running total: ${subtotal}\")\n",
        "    else:\n",
        "        print(\"Item not found\")\n",
        "\n",
        "\n",
        "# calculating the tax\n",
        "tax = subtotal * 0.08\n",
        "total = subtotal + tax\n",
        "\n",
        "print(\"\\n--- Receipt ---\")\n",
        "print(f\"Subtotal: ${subtotal:.2f}\")\n",
        "print(f\"Tax (8%): ${tax:.2f}\")\n",
        "print(f\"Final total: ${total:.2f}\")\n"
      ]
    },
    {
      "cell_type": "code",
      "source": [],
      "metadata": {
        "id": "YzhFxF6r3imS"
      },
      "execution_count": null,
      "outputs": []
    }
  ]
}